{
  "nbformat": 4,
  "nbformat_minor": 0,
  "metadata": {
    "colab": {
      "provenance": [],
      "authorship_tag": "ABX9TyMtPiLj2o9szcr3rCrBeCrU",
      "include_colab_link": true
    },
    "kernelspec": {
      "name": "python3",
      "display_name": "Python 3"
    },
    "language_info": {
      "name": "python"
    }
  },
  "cells": [
    {
      "cell_type": "markdown",
      "metadata": {
        "id": "view-in-github",
        "colab_type": "text"
      },
      "source": [
        "<a href=\"https://colab.research.google.com/github/GBManjunath/Ganesh/blob/main/Untitled55.ipynb\" target=\"_parent\"><img src=\"https://colab.research.google.com/assets/colab-badge.svg\" alt=\"Open In Colab\"/></a>"
      ]
    },
    {
      "cell_type": "code",
      "execution_count": null,
      "metadata": {
        "id": "iF_oRFi9p0d6"
      },
      "outputs": [],
      "source": []
    },
    {
      "cell_type": "markdown",
      "source": [
        "Q1. Theory and ConceptsU\n",
        "Sr Explain the concept of batch normalization in the context of Artificial Neural Networksr\n",
        "Er Describe the benefits of using batch normalization during trainingr\n",
        "@r Discuss the working principle of batch normalization, including the normalization step and the learnable\n",
        "parameters.\n",
        "Q2. ImplementationU\n",
        "Sr Choose a dataset of your choice (e.g., MNIST, CIFAR-10) and preprocess itr\n",
        "Er Implement a simple feedforward neural network using any deep learning framework/library (e.g.,\n",
        "TensorFlow, PyTorch)r\n",
        "@r Train the neural network on the chosen dataset without using batch normalizationr\n",
        "r Implement batch normalization layers in the neural network and train the model againr\n",
        "ur Compare the training and validation performance (e.g., accuracy, loss) between the models with and\n",
        "without batch normalizationr\n",
        "tr Discuss the impact of batch normalization on the training process and the performance of the neural\n",
        "network.\n",
        "Q3. Experimentation and AnalysisU\n",
        "Sr Experiment with different batch sizes and observe the effect on the training dynamics and model\n",
        "performancer\n",
        "Er Discuss the advantages and potential limitations of batch normalization in improving the training of\n",
        "neural networks."
      ],
      "metadata": {
        "id": "jrRkbzoP_U_q"
      }
    }
  ]
}