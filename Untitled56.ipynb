{
  "nbformat": 4,
  "nbformat_minor": 0,
  "metadata": {
    "colab": {
      "provenance": [],
      "authorship_tag": "ABX9TyNAnVBMcZhpcpT9u87f7t2S",
      "include_colab_link": true
    },
    "kernelspec": {
      "name": "python3",
      "display_name": "Python 3"
    },
    "language_info": {
      "name": "python"
    }
  },
  "cells": [
    {
      "cell_type": "markdown",
      "metadata": {
        "id": "view-in-github",
        "colab_type": "text"
      },
      "source": [
        "<a href=\"https://colab.research.google.com/github/GBManjunath/Ganesh/blob/main/Untitled56.ipynb\" target=\"_parent\"><img src=\"https://colab.research.google.com/assets/colab-badge.svg\" alt=\"Open In Colab\"/></a>"
      ]
    },
    {
      "cell_type": "code",
      "execution_count": null,
      "metadata": {
        "id": "iF_oRFi9p0d6"
      },
      "outputs": [],
      "source": []
    },
    {
      "cell_type": "markdown",
      "source": [
        "Q1. What is the purpose of forward propagation in a neural network?\n",
        "Q2. How is forward propagation implemented mathematically in a single-layer feedforward neural network?\n",
        "Q3. How are activation functions used during forward propagation?\n",
        "Q4. What is the role of weights and biases in forward propagation?\n",
        "Q5. What is the purpose of applying a softmax function in the output layer during forward propagation?\n",
        "Q6. What is the purpose of backward propagation in a neural network?\n",
        "Q7. How is backward propagation mathematically calculated in a single-layer feedforward neural network?\n",
        "Q8. Can you explain the concept of the chain rule and its application in backward propagation?\n",
        "Q9. What are some common challenges or issues that can occur during backward propagation, and how\n",
        "can they be addressed?"
      ],
      "metadata": {
        "id": "pkXhr9w4_2xu"
      }
    }
  ]
}