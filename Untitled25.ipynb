{
  "nbformat": 4,
  "nbformat_minor": 0,
  "metadata": {
    "colab": {
      "provenance": [],
      "authorship_tag": "ABX9TyPZ1UfkvVSm0grLVIQY5RDu",
      "include_colab_link": true
    },
    "kernelspec": {
      "name": "python3",
      "display_name": "Python 3"
    },
    "language_info": {
      "name": "python"
    }
  },
  "cells": [
    {
      "cell_type": "markdown",
      "metadata": {
        "id": "view-in-github",
        "colab_type": "text"
      },
      "source": [
        "<a href=\"https://colab.research.google.com/github/GBManjunath/Ganesh/blob/main/Untitled25.ipynb\" target=\"_parent\"><img src=\"https://colab.research.google.com/assets/colab-badge.svg\" alt=\"Open In Colab\"/></a>"
      ]
    },
    {
      "cell_type": "code",
      "execution_count": null,
      "metadata": {
        "id": "pu342p9Ra6dH"
      },
      "outputs": [],
      "source": []
    },
    {
      "cell_type": "markdown",
      "source": [
        "Q1: Explain the following with an example:\n",
        "C) Artificial Intelligence (AI):\n",
        "Artificial Intelligence (AI) refers to the field of computer science that focuses on creating systems or machines that can perform tasks that would normally require human intelligence. These tasks include decision-making, speech recognition, image processing, and language translation.\n",
        "\n",
        "Example: An AI-based chatbot like ChatGPT or Siri, which understands user queries and responds in a human-like manner.\n",
        "D) Machine Learning (ML):\n",
        "Machine Learning (ML) is a subset of AI that enables systems to learn from data and improve their performance over time without being explicitly programmed. In ML, algorithms analyze data patterns to make predictions or decisions.\n",
        "\n",
        "Example: A recommendation system on an e-commerce website like Amazon, which suggests products based on past purchases and browsing history.\n",
        "E) Deep Learning (DL):\n",
        "Deep Learning (DL) is a subset of Machine Learning that deals with algorithms inspired by the structure and function of the brain called artificial neural networks. It is capable of learning from large amounts of unstructured data, such as images, audio, and text.\n",
        "\n",
        "Example: Self-driving cars, which use deep learning to recognize objects, pedestrians, and traffic signals.\n",
        "Q2: What is supervised learning? List some examples of supervised learning.\n",
        "Supervised Learning is a type of machine learning where the algorithm is trained using labeled data. The data consists of input-output pairs, where the output (also known as the label) is already known. The model learns to map inputs to the correct outputs, and after training, it can predict the output for new, unseen inputs.\n",
        "\n",
        "Examples of Supervised Learning:\n",
        "Classification:\n",
        "Email spam filtering (classifying emails as \"spam\" or \"not spam\").\n",
        "Handwritten digit recognition (recognizing digits 0-9 from images).\n",
        "Regression:\n",
        "Predicting house prices based on features like size, location, and number of rooms.\n",
        "Forecasting stock prices based on historical data.\n",
        "Q3: What is unsupervised learning? List some examples of unsupervised learning.\n",
        "Unsupervised Learning is a type of machine learning where the algorithm is given data without labeled outputs. The model tries to learn patterns or structures in the data without any specific guidance regarding the output.\n",
        "\n",
        "Examples of Unsupervised Learning:\n",
        "Clustering:\n",
        "Customer segmentation based on purchasing behavior.\n",
        "Grouping similar documents for topic modeling.\n",
        "Association:\n",
        "Market basket analysis (finding items that are frequently bought together).\n",
        "Q4: What is the difference between AI, ML, DL, and DS?\n",
        "AI (Artificial Intelligence):\n",
        "Refers to the broader concept of machines performing tasks that require human-like intelligence. It encompasses everything from rule-based systems to sophisticated learning techniques.\n",
        "ML (Machine Learning):\n",
        "A subset of AI that allows systems to learn from data and make predictions without explicit programming.\n",
        "DL (Deep Learning):\n",
        "A subset of ML that uses neural networks with many layers (hence \"deep\") to analyze complex data like images, audio, and text.\n",
        "DS (Data Science):\n",
        "A broader field that involves extracting knowledge and insights from data using various techniques, including AI, ML, and statistical methods. Data scientists use data analysis, machine learning, and statistical tools to understand and interpret data.\n",
        "Q5: What are the main differences between supervised, unsupervised, and semi-supervised learning?\n",
        "Supervised Learning:\n",
        "\n",
        "The model is trained using labeled data (input-output pairs).\n",
        "The objective is to predict an output for unseen data based on the learned patterns.\n",
        "Unsupervised Learning:\n",
        "\n",
        "The model is trained using unlabeled data. The algorithm tries to find hidden patterns or structures in the data.\n",
        "It is often used for clustering or dimensionality reduction.\n",
        "Semi-Supervised Learning:\n",
        "\n",
        "A combination of both supervised and unsupervised learning. It uses a small amount of labeled data along with a large amount of unlabeled data.\n",
        "It is used when labeling data is expensive or time-consuming.\n",
        "Q6: What is train, test, and validation split? Explain the importance of each term.\n",
        "Train Split:\n",
        "The portion of the data used to train the model. This is where the model learns the relationships between input and output.\n",
        "Test Split:\n",
        "The portion of the data used to evaluate the performance of the model after training. It provides an unbiased evaluation of the model's generalization ability.\n",
        "Validation Split:\n",
        "A portion of the data used during the training process to tune the model’s hyperparameters (e.g., learning rate, number of layers). It helps to prevent overfitting and ensures the model generalizes well.\n",
        "Importance:\n",
        "\n",
        "Train set helps the model learn.\n",
        "Test set helps evaluate the model's final performance.\n",
        "Validation set helps tune the model and avoid overfitting.\n",
        "Q7: How can unsupervised learning be used in anomaly detection?\n",
        "Unsupervised learning can be used in anomaly detection by identifying patterns in data that do not conform to expected behavior. Since unsupervised learning algorithms do not require labeled data, they can discover anomalies (outliers) by recognizing data points that are different from the majority.\n",
        "\n",
        "Example: In fraud detection, unsupervised learning algorithms can be used to detect unusual credit card transactions that deviate from the normal spending patterns of a user.\n",
        "Q8: List down some commonly used supervised learning algorithms and unsupervised learning algorithms.\n",
        "Supervised Learning Algorithms:\n",
        "\n",
        "Linear Regression\n",
        "Logistic Regression\n",
        "Decision Trees\n",
        "Support Vector Machines (SVM)\n",
        "K-Nearest Neighbors (KNN)\n",
        "Random Forest\n",
        "Naive Bayes\n",
        "Unsupervised Learning Algorithms:\n",
        "\n",
        "K-Means Clustering\n",
        "Hierarchical Clustering\n",
        "DBSCAN\n",
        "Principal Component Analysis (PCA)\n",
        "Autoencoders\n",
        "Gaussian Mixture Models (GMM)"
      ],
      "metadata": {
        "id": "62NKCUCjb70F"
      }
    }
  ]
}