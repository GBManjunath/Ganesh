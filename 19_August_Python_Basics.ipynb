{
 "cells": [
  {
   "cell_type": "code",
   "execution_count": 15,
   "id": "0b6b976a-3e6d-4d99-87b1-f7509201bc92",
   "metadata": {},
   "outputs": [
    {
     "name": "stdout",
     "output_type": "stream",
     "text": [
      "After swapping:\n",
      "x = 10\n",
      "y = 5\n"
     ]
    }
   ],
   "source": [
    "#Python Basics Assignment \n",
    "#TOPIC: Python Basics Variable\n",
    "\n",
    "#Question 1: \n",
    "\n",
    "#Declare two variables, `x` and `y`, and assign them integer values.\n",
    "#Swap the values of these variables without using any temporaryvariable.\n",
    "\n",
    "#Answer :  \n",
    "\n",
    "x = 5\n",
    "y = 10\n",
    "\n",
    "x = x + y\n",
    "y = x - y\n",
    "x = x - y\n",
    "\n",
    "print(\"After swapping:\")\n",
    "print(\"x =\", x)\n",
    "print(\"y =\", y)"
   ]
  },
  {
   "cell_type": "code",
   "execution_count": 3,
   "id": "fe5fb8da-77f7-41e2-a6ee-547f7c464aa5",
   "metadata": {},
   "outputs": [
    {
     "name": "stdin",
     "output_type": "stream",
     "text": [
      "Enter the length of the rectangle:  15\n",
      "Enter the width of the rectangle:  12\n"
     ]
    },
    {
     "name": "stdout",
     "output_type": "stream",
     "text": [
      "The area of the rectangle is: 180.0\n"
     ]
    }
   ],
   "source": [
    "#Question 2:\n",
    "\n",
    "#Create a program that calculates the area of a rectangle. Take the\n",
    "#length and width as inputs from the user and store them in variables.\n",
    "#Calculate and display the area.\n",
    "\n",
    "# Taking input from the user for length and width\n",
    "length = float(input(\"Enter the length of the rectangle: \"))\n",
    "width = float(input(\"Enter the width of the rectangle: \"))\n",
    "\n",
    "# Calculating the area of the rectangle\n",
    "area = length * width\n",
    "\n",
    "# Displaying the calculated area\n",
    "print(\"The area of the rectangle is:\", area)"
   ]
  },
  {
   "cell_type": "code",
   "execution_count": 4,
   "id": "2c256fbd-c366-4d58-abfd-d3a92c7de361",
   "metadata": {},
   "outputs": [
    {
     "name": "stdin",
     "output_type": "stream",
     "text": [
      "Enter the temperature in Celsius:  25\n"
     ]
    },
    {
     "name": "stdout",
     "output_type": "stream",
     "text": [
      "The temperature in Fahrenheit is: 77.0\n"
     ]
    }
   ],
   "source": [
    "#Question 3\n",
    "\n",
    "#Write a Python program that converts temperature from Celsius to\n",
    "#Fahrenheit. Take the temperature in Celsius as input, store it in a\n",
    "#variable, convert it to Fahrenheit, and display the result.\n",
    "\n",
    "# Taking input from the user for temperature in Celsius\n",
    "celsius = float(input(\"Enter the temperature in Celsius: \"))\n",
    "\n",
    "# Converting Celsius to Fahrenheit\n",
    "fahrenheit = (celsius * 9/5) + 32\n",
    "\n",
    "# Displaying the converted temperature in Fahrenheit\n",
    "print(\"The temperature in Fahrenheit is:\", fahrenheit)"
   ]
  },
  {
   "cell_type": "code",
   "execution_count": 5,
   "id": "758d19f4-2664-4e3f-bc51-0296d0a8a9fa",
   "metadata": {},
   "outputs": [
    {
     "name": "stdin",
     "output_type": "stream",
     "text": [
      "Enter a string:  My name is Ganesh Babu Manjunath\n"
     ]
    },
    {
     "name": "stdout",
     "output_type": "stream",
     "text": [
      "The length of the input string is: 32\n"
     ]
    }
   ],
   "source": [
    "#TOPIC: String Based Questions\n",
    "\n",
    "#Question 1:\n",
    " \n",
    "# Write a Python program that takes a string as input and prints the\n",
    "#length of the string.    \n",
    "    \n",
    "# Taking input from the user\n",
    "input_string = input(\"Enter a string: \")\n",
    "\n",
    "# Calculating and printing the length of the input string\n",
    "length = len(input_string)\n",
    "print(\"The length of the input string is:\", length)\n",
    "    "
   ]
  },
  {
   "cell_type": "code",
   "execution_count": 10,
   "id": "ee4e03d1-09d2-4ad2-b722-17f8ce3e2dba",
   "metadata": {},
   "outputs": [
    {
     "name": "stdin",
     "output_type": "stream",
     "text": [
      "Enter a sentence:  Python is a very user friendly programming language\n"
     ]
    },
    {
     "name": "stdout",
     "output_type": "stream",
     "text": [
      "The number of vowels in the sentence is: 15\n"
     ]
    }
   ],
   "source": [
    "#Question 2:\n",
    "\n",
    "#Create a program that takes a sentence from the user and counts the\n",
    "#number of vowels (a, e, i, o, u) in the string.\n",
    "\n",
    "# Taking input from the user\n",
    "user_sentence = input(\"Enter a sentence: \")\n",
    "\n",
    "# Converting the sentence to lowercase to count both lowercase and uppercase vowels\n",
    "user_sentence = user_sentence.lower()\n",
    "\n",
    "# Initializing a variable to count vowels\n",
    "vowel_count = 0\n",
    "\n",
    "# List of vowels\n",
    "vowels = \"aeiou\"\n",
    "\n",
    "# Counting the number of vowels in the sentence\n",
    "for char in user_sentence:\n",
    "    if char in vowels:\n",
    "        vowel_count += 1\n",
    "\n",
    "# Displaying the vowel count\n",
    "print(\"The number of vowels in the sentence is:\", vowel_count)\n",
    "\n"
   ]
  },
  {
   "cell_type": "code",
   "execution_count": 11,
   "id": "b095599f-0e52-4b41-a6c3-7ad762390221",
   "metadata": {},
   "outputs": [
    {
     "name": "stdin",
     "output_type": "stream",
     "text": [
      "Enter a string:  Data Science is a very fast growing profession today\n"
     ]
    },
    {
     "name": "stdout",
     "output_type": "stream",
     "text": [
      "Reversed string: yadot noisseforp gniworg tsaf yrev a si ecneicS ataD\n"
     ]
    }
   ],
   "source": [
    "#Question 3:\n",
    "\n",
    "#Given a string, reverse the order of characters using string slicing and\n",
    "#print the reversed string.\n",
    "\n",
    "# Taking input from the user\n",
    "original_string = input(\"Enter a string: \")\n",
    "\n",
    "# Reversing the string using string slicing\n",
    "reversed_string = original_string[::-1]\n",
    "\n",
    "# Displaying the reversed string\n",
    "print(\"Reversed string:\", reversed_string)"
   ]
  },
  {
   "cell_type": "code",
   "execution_count": 12,
   "id": "1c4f194c-7412-4d25-91fb-9be829076be0",
   "metadata": {},
   "outputs": [
    {
     "name": "stdin",
     "output_type": "stream",
     "text": [
      "Enter a string:  India has many states\n"
     ]
    },
    {
     "name": "stdout",
     "output_type": "stream",
     "text": [
      "The entered string is not a palindrome.\n"
     ]
    }
   ],
   "source": [
    "#Question 4\n",
    "\n",
    "#4. Write a program that takes a string as input and checks if it is a\n",
    "#palindrome (reads the same forwards and backwards).\n",
    "\n",
    "\n",
    "# Taking input from the user\n",
    "input_string = input(\"Enter a string: \")\n",
    "\n",
    "# Removing spaces and converting to lowercase for case-insensitive comparison\n",
    "cleaned_string = input_string.replace(\" \", \"\").lower()\n",
    "\n",
    "# Reversing the string using string slicing\n",
    "reversed_string = cleaned_string[::-1]\n",
    "\n",
    "# Checking if the original and reversed strings are the same\n",
    "if cleaned_string == reversed_string:\n",
    "    print(\"The entered string is a palindrome.\")\n",
    "else:\n",
    "    print(\"The entered string is not a palindrome.\")"
   ]
  },
  {
   "cell_type": "code",
   "execution_count": 16,
   "id": "4e263dda-19f8-4a8c-9d93-79c151178666",
   "metadata": {},
   "outputs": [
    {
     "name": "stdin",
     "output_type": "stream",
     "text": [
      "Enter a string:  Artificial Intelligence\n"
     ]
    },
    {
     "name": "stdout",
     "output_type": "stream",
     "text": [
      "Modified string: ArtificialIntelligence\n"
     ]
    }
   ],
   "source": [
    "#Question 5:\n",
    "\n",
    "# Taking input from the user\n",
    "input_string = input(\"Enter a string: \")\n",
    "\n",
    "# Removing spaces from the string\n",
    "modified_string = input_string.replace(\" \", \"\")\n",
    "\n",
    "# Displaying the modified string without spaces\n",
    "print(\"Modified string:\", modified_string)\n"
   ]
  }
 ],
 "metadata": {
  "kernelspec": {
   "display_name": "Python 3 (ipykernel)",
   "language": "python",
   "name": "python3"
  },
  "language_info": {
   "codemirror_mode": {
    "name": "ipython",
    "version": 3
   },
   "file_extension": ".py",
   "mimetype": "text/x-python",
   "name": "python",
   "nbconvert_exporter": "python",
   "pygments_lexer": "ipython3",
   "version": "3.10.8"
  }
 },
 "nbformat": 4,
 "nbformat_minor": 5
}
